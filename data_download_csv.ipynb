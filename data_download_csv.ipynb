{
 "cells": [
  {
   "cell_type": "code",
   "execution_count": 15,
   "id": "50bb249f",
   "metadata": {},
   "outputs": [],
   "source": [
    "import yfinance as yf\n",
    "import numpy as np\n",
    "import pandas as pd\n",
    "import requests"
   ]
  },
  {
   "cell_type": "code",
   "execution_count": 16,
   "id": "02aa0755",
   "metadata": {},
   "outputs": [
    {
     "name": "stderr",
     "output_type": "stream",
     "text": [
      "C:\\Users\\hando\\AppData\\Local\\Temp\\ipykernel_12900\\3209687644.py:6: FutureWarning: Passing literal html to 'read_html' is deprecated and will be removed in a future version. To read from a literal string, wrap it in a 'StringIO' object.\n",
      "  table = pd.read_html(response.text)[0]\n",
      "C:\\Users\\hando\\AppData\\Local\\Temp\\ipykernel_12900\\3209687644.py:13: FutureWarning: YF.download() has changed argument auto_adjust default to True\n",
      "  close_data = yf.download(tickers, start=\"2020-01-01\", end=\"2025-01-01\")['Close']\n",
      "[*********************100%***********************]  503 of 503 completed\n"
     ]
    }
   ],
   "source": [
    "# SP500 tickers from Wikipedia\n",
    "\n",
    "url = \"https://en.wikipedia.org/wiki/List_of_S%26P_500_companies\"\n",
    "headers = {\"User-Agent\": \"Mozilla/5.0\"}\n",
    "response = requests.get(url, headers=headers)\n",
    "table = pd.read_html(response.text)[0]\n",
    "tickers = table['Symbol'].to_list()\n",
    "\n",
    "# Yahoo Format\n",
    "tickers = [t.replace(\".\", \"-\") for t in tickers]\n",
    "\n",
    "# Download historical data\n",
    "close_data = yf.download(tickers, start=\"2020-01-01\", end=\"2025-01-01\")['Close']\n"
   ]
  },
  {
   "cell_type": "code",
   "execution_count": 17,
   "id": "1725682d",
   "metadata": {},
   "outputs": [
    {
     "name": "stdout",
     "output_type": "stream",
     "text": [
      "Ticker              A       AAPL       ABBV        ABT       ACGL         ACN  \\\n",
      "Date                                                                            \n",
      "2020-01-02  82.711060  72.538506  70.326820  78.555801  41.268997  192.514999   \n",
      "2020-01-03  81.383072  71.833305  69.659286  77.598145  41.221451  192.194382   \n",
      "2020-01-06  81.623665  72.405685  70.209023  78.004715  41.383106  190.939362   \n",
      "2020-01-07  81.873848  72.065140  69.808502  77.571037  41.040779  186.816956   \n",
      "2020-01-08  82.682205  73.224403  70.303268  77.887245  40.631893  187.183441   \n",
      "\n",
      "Ticker            ADBE         ADI        ADM         ADP  ...         WY  \\\n",
      "Date                                                       ...              \n",
      "2020-01-02  334.429993  108.511078  39.126694  150.852661  ...  23.822412   \n",
      "2020-01-03  331.809998  106.600868  39.050323  150.533798  ...  23.862932   \n",
      "2020-01-06  333.709991  105.348450  38.744835  150.737503  ...  23.814302   \n",
      "2020-01-07  333.390015  107.745201  38.278130  148.912979  ...  23.660299   \n",
      "2020-01-08  337.869995  108.718300  37.853851  150.312393  ...  23.749460   \n",
      "\n",
      "Ticker            WYNN        XEL        XOM        XYL        XYZ        YUM  \\\n",
      "Date                                                                            \n",
      "2020-01-02  138.703308  52.264381  54.131069  74.562325  63.830002  91.754829   \n",
      "2020-01-03  136.645920  52.515724  53.695892  75.001205  63.000000  91.467430   \n",
      "2020-01-06  136.375504  52.440331  54.108173  74.515625  62.570000  91.413567   \n",
      "2020-01-07  137.022614  52.331413  53.665352  74.235497  64.589996  91.575195   \n",
      "2020-01-08  137.882263  52.281143  52.856052  74.487625  67.599998  91.736847   \n",
      "\n",
      "Ticker             ZBH        ZBRA         ZTS  \n",
      "Date                                            \n",
      "2020-01-02  138.655258  259.140015  127.958321  \n",
      "2020-01-03  138.292831  256.049988  127.977394  \n",
      "2020-01-06  137.493622  258.010010  126.994919  \n",
      "2020-01-07  137.372803  256.470001  127.424141  \n",
      "2020-01-08  139.017731  247.639999  127.147514  \n",
      "\n",
      "[5 rows x 488 columns]\n"
     ]
    }
   ],
   "source": [
    "\n",
    "close_data = close_data.dropna(axis=1, how='any')  # Drop columns with any NaN values\n",
    "print(close_data.head())"
   ]
  },
  {
   "cell_type": "code",
   "execution_count": 18,
   "id": "ca3afe85",
   "metadata": {},
   "outputs": [],
   "source": [
    "#Download csv\n",
    "close_data.to_csv(\"sp500_prices_close.csv\")"
   ]
  }
 ],
 "metadata": {
  "kernelspec": {
   "display_name": "Python 3",
   "language": "python",
   "name": "python3"
  },
  "language_info": {
   "codemirror_mode": {
    "name": "ipython",
    "version": 3
   },
   "file_extension": ".py",
   "mimetype": "text/x-python",
   "name": "python",
   "nbconvert_exporter": "python",
   "pygments_lexer": "ipython3",
   "version": "3.11.4"
  }
 },
 "nbformat": 4,
 "nbformat_minor": 5
}
