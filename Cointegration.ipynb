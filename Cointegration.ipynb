{
 "cells": [
  {
   "cell_type": "code",
   "execution_count": 61,
   "id": "f5907687",
   "metadata": {},
   "outputs": [],
   "source": [
    "import numpy as np\n",
    "import pandas as pd\n",
    "import statsmodels.api as sm\n",
    "from statsmodels.tsa.stattools import adfuller, coint\n",
    "import yfinance as yf\n"
   ]
  },
  {
   "cell_type": "code",
   "execution_count": 62,
   "id": "fd851074",
   "metadata": {},
   "outputs": [
    {
     "name": "stdout",
     "output_type": "stream",
     "text": [
      "                    A       AAPL       ABBV        ABT       ACGL         ACN  \\\n",
      "Date                                                                            \n",
      "2020-01-02  82.711060  72.538506  70.326820  78.555801  41.268997  192.514999   \n",
      "2020-01-03  81.383072  71.833305  69.659286  77.598145  41.221451  192.194382   \n",
      "2020-01-06  81.623665  72.405685  70.209023  78.004715  41.383106  190.939362   \n",
      "2020-01-07  81.873848  72.065140  69.808502  77.571037  41.040779  186.816956   \n",
      "2020-01-08  82.682205  73.224403  70.303268  77.887245  40.631893  187.183441   \n",
      "\n",
      "                  ADBE         ADI        ADM         ADP  ...         WY  \\\n",
      "Date                                                       ...              \n",
      "2020-01-02  334.429993  108.511078  39.126694  150.852661  ...  23.822412   \n",
      "2020-01-03  331.809998  106.600868  39.050323  150.533798  ...  23.862932   \n",
      "2020-01-06  333.709991  105.348450  38.744835  150.737503  ...  23.814302   \n",
      "2020-01-07  333.390015  107.745201  38.278130  148.912979  ...  23.660299   \n",
      "2020-01-08  337.869995  108.718300  37.853851  150.312393  ...  23.749460   \n",
      "\n",
      "                  WYNN        XEL        XOM        XYL        XYZ        YUM  \\\n",
      "Date                                                                            \n",
      "2020-01-02  138.703308  52.264381  54.131069  74.562325  63.830002  91.754829   \n",
      "2020-01-03  136.645920  52.515724  53.695892  75.001205  63.000000  91.467430   \n",
      "2020-01-06  136.375504  52.440331  54.108173  74.515625  62.570000  91.413567   \n",
      "2020-01-07  137.022614  52.331413  53.665352  74.235497  64.589996  91.575195   \n",
      "2020-01-08  137.882263  52.281143  52.856052  74.487625  67.599998  91.736847   \n",
      "\n",
      "                   ZBH        ZBRA         ZTS  \n",
      "Date                                            \n",
      "2020-01-02  138.655258  259.140015  127.958321  \n",
      "2020-01-03  138.292831  256.049988  127.977394  \n",
      "2020-01-06  137.493622  258.010010  126.994919  \n",
      "2020-01-07  137.372803  256.470001  127.424141  \n",
      "2020-01-08  139.017731  247.639999  127.147514  \n",
      "\n",
      "[5 rows x 488 columns]\n"
     ]
    }
   ],
   "source": [
    "returns_close = pd.read_csv('sp500_prices_close.csv', index_col=0, parse_dates=True)\n",
    "returns_close = returns_close.dropna()\n",
    "print(returns_close.head())\n"
   ]
  },
  {
   "cell_type": "markdown",
   "id": "a2cee5df",
   "metadata": {},
   "source": [
    "# Engle-Granger test:\n",
    "\n",
    "Assuming 2 time-series $X_{t}$ and $Y_{t}$ are I(1), they are cointegrated if there exist scalar $\\beta$ such that :\n",
    " \n",
    "$u_{t}= Y_{t}​− \\beta X_{t}$ satisfies $u_{t}$~I(0)  "
   ]
  },
  {
   "cell_type": "code",
   "execution_count": 63,
   "id": "cef4e93b",
   "metadata": {},
   "outputs": [],
   "source": [
    "# Differentiation of a time-series\n",
    "def diff(series, d=1):\n",
    "    \"\"\"Return Δ^d series (d-th difference).\"\"\"\n",
    "    out = series.copy()\n",
    "    for _ in range(d):\n",
    "        out = out.diff()\n",
    "    return out.dropna()"
   ]
  },
  {
   "cell_type": "code",
   "execution_count": 64,
   "id": "71c69350",
   "metadata": {},
   "outputs": [],
   "source": [
    "# ADF test\n",
    "def adf_test(series, max_lags=None, ic='AIC', trend='c'):\n",
    "    \"\"\"\n",
    "    trend: 'n' (no const), 'c' (const), 'ct' (const+trend), 'ctt' (const+trend+quad)\n",
    "    ic:    'AIC' or 'BIC' for autolag selection\n",
    "    \"\"\"\n",
    "    series = series.dropna()\n",
    "    res = adfuller(series, maxlag=max_lags, regression=trend, autolag=ic)\n",
    "    out = {\n",
    "        'ADF stat': res[0],\n",
    "        'p-value':  res[1],\n",
    "        '#lags':    res[2],\n",
    "        '#obs':     res[3],\n",
    "        'crit':     res[4],   # dict with 1%, 5%, 10%\n",
    "        'icbest':   res[5] if len(res) > 5 else None\n",
    "    }\n",
    "    return out"
   ]
  },
  {
   "cell_type": "code",
   "execution_count": 65,
   "id": "ab5b49f0",
   "metadata": {},
   "outputs": [],
   "source": [
    "#checks the order of integration of a time-series\n",
    "def is_Id(series, d=1, adf_trend='c', ic='AIC'):\n",
    "    \"\"\"Quick check: not stationary at level but stationary after one diff.\"\"\"\n",
    "    r0 = adf_test(series, trend=adf_trend, ic=ic)['p-value']\n",
    "    r1 = adf_test(diff(series, d=d), trend='n', ic=ic)['p-value']\n",
    "    return (r0 > 0.05) and (r1 < 0.05)"
   ]
  },
  {
   "cell_type": "code",
   "execution_count": 66,
   "id": "f98ae828",
   "metadata": {},
   "outputs": [
    {
     "name": "stdout",
     "output_type": "stream",
     "text": [
      "{'ADF stat': -35.938708244717134, 'p-value': 0.0, '#lags': 0, '#obs': 1256, 'crit': {'1%': -3.4355671297788666, '5%': -2.8638438984080117, '10%': -2.5679966213893057}, 'icbest': 5928.407008002422}\n"
     ]
    }
   ],
   "source": [
    "print(adf_test(diff(returns_close['AAPL']), trend='c'))"
   ]
  },
  {
   "cell_type": "code",
   "execution_count": 67,
   "id": "b3ff5455",
   "metadata": {},
   "outputs": [
    {
     "name": "stdout",
     "output_type": "stream",
     "text": [
      "False\n",
      "True\n"
     ]
    }
   ],
   "source": [
    "print(is_Id(returns_close['AAPL'],d=0))\n",
    "print(is_Id(returns_close['AAPL'],d=1))"
   ]
  },
  {
   "cell_type": "code",
   "execution_count": null,
   "id": "63e97d56",
   "metadata": {},
   "outputs": [],
   "source": [
    "def engle_granger(X,Y, p_val=0.05):\n",
    "    if not (is_Id(X,d=1) and is_Id(Y,d=1)):\n",
    "        return None\n",
    "    else:\n",
    "        score, p_value, _ = coint(X, Y)\n",
    "\n",
    "        if p_value < p_val:\n",
    "            X_const = sm.add_constant(X)\n",
    "            model = sm.OLS(Y, X_const).fit()\n",
    "            beta = model.params[1]  # slope coefficient\n",
    "            alpha = model.params[0]  # intercept\n",
    "            \n",
    "            return beta, alpha, p_value, score\n",
    "        else:\n",
    "            return None"
   ]
  },
  {
   "cell_type": "code",
   "execution_count": 85,
   "id": "e821f7e2",
   "metadata": {},
   "outputs": [
    {
     "name": "stdout",
     "output_type": "stream",
     "text": [
      "None\n"
     ]
    }
   ],
   "source": [
    "print(engle_granger(returns_close['AAPL'], returns_close['MSFT'], p_val=0.05))"
   ]
  },
  {
   "cell_type": "markdown",
   "id": "fc7571a6",
   "metadata": {},
   "source": [
    "# Testing values that are cointegrated in the SP500"
   ]
  },
  {
   "cell_type": "code",
   "execution_count": null,
   "id": "a2369372",
   "metadata": {},
   "outputs": [],
   "source": [
    "def cointegrated_pairs(df, p_val=0.05):\n",
    "    pairs=[]\n",
    "    for i in range(df.shape[1]):\n",
    "        for j in range(i+1,df.shape[1]):\n",
    "            if i!=j:\n",
    "                    X = df.iloc[:,i]\n",
    "                    Y = df.iloc[:,j]\n",
    "                    if not engle_granger(X,Y, p_val=p_val) is None: \n",
    "                        beta, alpha, p_value, score = engle_granger(X,Y, p_val=p_val)\n",
    "                        if p_value < p_val:\n",
    "                            print(f\"Cointegrated pair: {df.columns[i]} and {df.columns[j]} with p-value {p_value}\")\n",
    "                            pairs.append((df.columns[i], df.columns[j], beta, alpha, p_value, score))\n",
    "    return pairs"
   ]
  },
  {
   "cell_type": "code",
   "execution_count": null,
   "id": "69e7ffc2",
   "metadata": {},
   "outputs": [
    {
     "name": "stderr",
     "output_type": "stream",
     "text": [
      "C:\\Users\\hando\\AppData\\Local\\Temp\\ipykernel_21124\\3589658198.py:10: FutureWarning: Series.__getitem__ treating keys as positions is deprecated. In a future version, integer keys will always be treated as labels (consistent with DataFrame behavior). To access a value by position, use `ser.iloc[pos]`\n",
      "  beta = model.params[1]  # slope coefficient\n",
      "C:\\Users\\hando\\AppData\\Local\\Temp\\ipykernel_21124\\3589658198.py:11: FutureWarning: Series.__getitem__ treating keys as positions is deprecated. In a future version, integer keys will always be treated as labels (consistent with DataFrame behavior). To access a value by position, use `ser.iloc[pos]`\n",
      "  alpha = model.params[0]  # intercept\n"
     ]
    },
    {
     "name": "stdout",
     "output_type": "stream",
     "text": [
      "Cointegrated pair: A and CFG with p-value 0.04014992138114454\n"
     ]
    },
    {
     "name": "stderr",
     "output_type": "stream",
     "text": [
      "C:\\Users\\hando\\AppData\\Local\\Temp\\ipykernel_21124\\3589658198.py:10: FutureWarning: Series.__getitem__ treating keys as positions is deprecated. In a future version, integer keys will always be treated as labels (consistent with DataFrame behavior). To access a value by position, use `ser.iloc[pos]`\n",
      "  beta = model.params[1]  # slope coefficient\n",
      "C:\\Users\\hando\\AppData\\Local\\Temp\\ipykernel_21124\\3589658198.py:11: FutureWarning: Series.__getitem__ treating keys as positions is deprecated. In a future version, integer keys will always be treated as labels (consistent with DataFrame behavior). To access a value by position, use `ser.iloc[pos]`\n",
      "  alpha = model.params[0]  # intercept\n"
     ]
    },
    {
     "name": "stdout",
     "output_type": "stream",
     "text": [
      "Cointegrated pair: A and F with p-value 0.047250515591776523\n"
     ]
    },
    {
     "name": "stderr",
     "output_type": "stream",
     "text": [
      "C:\\Users\\hando\\AppData\\Local\\Temp\\ipykernel_21124\\3589658198.py:10: FutureWarning: Series.__getitem__ treating keys as positions is deprecated. In a future version, integer keys will always be treated as labels (consistent with DataFrame behavior). To access a value by position, use `ser.iloc[pos]`\n",
      "  beta = model.params[1]  # slope coefficient\n",
      "C:\\Users\\hando\\AppData\\Local\\Temp\\ipykernel_21124\\3589658198.py:11: FutureWarning: Series.__getitem__ treating keys as positions is deprecated. In a future version, integer keys will always be treated as labels (consistent with DataFrame behavior). To access a value by position, use `ser.iloc[pos]`\n",
      "  alpha = model.params[0]  # intercept\n"
     ]
    },
    {
     "name": "stdout",
     "output_type": "stream",
     "text": [
      "Cointegrated pair: A and FRT with p-value 0.02705710832419845\n"
     ]
    },
    {
     "name": "stderr",
     "output_type": "stream",
     "text": [
      "C:\\Users\\hando\\AppData\\Local\\Temp\\ipykernel_21124\\3589658198.py:10: FutureWarning: Series.__getitem__ treating keys as positions is deprecated. In a future version, integer keys will always be treated as labels (consistent with DataFrame behavior). To access a value by position, use `ser.iloc[pos]`\n",
      "  beta = model.params[1]  # slope coefficient\n",
      "C:\\Users\\hando\\AppData\\Local\\Temp\\ipykernel_21124\\3589658198.py:11: FutureWarning: Series.__getitem__ treating keys as positions is deprecated. In a future version, integer keys will always be treated as labels (consistent with DataFrame behavior). To access a value by position, use `ser.iloc[pos]`\n",
      "  alpha = model.params[0]  # intercept\n"
     ]
    },
    {
     "name": "stdout",
     "output_type": "stream",
     "text": [
      "Cointegrated pair: A and HBAN with p-value 0.031157518822964397\n"
     ]
    },
    {
     "name": "stderr",
     "output_type": "stream",
     "text": [
      "C:\\Users\\hando\\AppData\\Local\\Temp\\ipykernel_21124\\3589658198.py:10: FutureWarning: Series.__getitem__ treating keys as positions is deprecated. In a future version, integer keys will always be treated as labels (consistent with DataFrame behavior). To access a value by position, use `ser.iloc[pos]`\n",
      "  beta = model.params[1]  # slope coefficient\n",
      "C:\\Users\\hando\\AppData\\Local\\Temp\\ipykernel_21124\\3589658198.py:11: FutureWarning: Series.__getitem__ treating keys as positions is deprecated. In a future version, integer keys will always be treated as labels (consistent with DataFrame behavior). To access a value by position, use `ser.iloc[pos]`\n",
      "  alpha = model.params[0]  # intercept\n"
     ]
    },
    {
     "name": "stdout",
     "output_type": "stream",
     "text": [
      "Cointegrated pair: A and HON with p-value 0.01680151058650151\n"
     ]
    },
    {
     "name": "stderr",
     "output_type": "stream",
     "text": [
      "C:\\Users\\hando\\AppData\\Local\\Temp\\ipykernel_21124\\3589658198.py:10: FutureWarning: Series.__getitem__ treating keys as positions is deprecated. In a future version, integer keys will always be treated as labels (consistent with DataFrame behavior). To access a value by position, use `ser.iloc[pos]`\n",
      "  beta = model.params[1]  # slope coefficient\n",
      "C:\\Users\\hando\\AppData\\Local\\Temp\\ipykernel_21124\\3589658198.py:11: FutureWarning: Series.__getitem__ treating keys as positions is deprecated. In a future version, integer keys will always be treated as labels (consistent with DataFrame behavior). To access a value by position, use `ser.iloc[pos]`\n",
      "  alpha = model.params[0]  # intercept\n"
     ]
    },
    {
     "name": "stdout",
     "output_type": "stream",
     "text": [
      "Cointegrated pair: A and IEX with p-value 0.026629925380257533\n"
     ]
    },
    {
     "name": "stderr",
     "output_type": "stream",
     "text": [
      "C:\\Users\\hando\\AppData\\Local\\Temp\\ipykernel_21124\\3589658198.py:10: FutureWarning: Series.__getitem__ treating keys as positions is deprecated. In a future version, integer keys will always be treated as labels (consistent with DataFrame behavior). To access a value by position, use `ser.iloc[pos]`\n",
      "  beta = model.params[1]  # slope coefficient\n",
      "C:\\Users\\hando\\AppData\\Local\\Temp\\ipykernel_21124\\3589658198.py:11: FutureWarning: Series.__getitem__ treating keys as positions is deprecated. In a future version, integer keys will always be treated as labels (consistent with DataFrame behavior). To access a value by position, use `ser.iloc[pos]`\n",
      "  alpha = model.params[0]  # intercept\n"
     ]
    },
    {
     "name": "stdout",
     "output_type": "stream",
     "text": [
      "Cointegrated pair: A and KEYS with p-value 0.0456644427126912\n"
     ]
    },
    {
     "name": "stderr",
     "output_type": "stream",
     "text": [
      "C:\\Users\\hando\\AppData\\Local\\Temp\\ipykernel_21124\\3589658198.py:10: FutureWarning: Series.__getitem__ treating keys as positions is deprecated. In a future version, integer keys will always be treated as labels (consistent with DataFrame behavior). To access a value by position, use `ser.iloc[pos]`\n",
      "  beta = model.params[1]  # slope coefficient\n",
      "C:\\Users\\hando\\AppData\\Local\\Temp\\ipykernel_21124\\3589658198.py:11: FutureWarning: Series.__getitem__ treating keys as positions is deprecated. In a future version, integer keys will always be treated as labels (consistent with DataFrame behavior). To access a value by position, use `ser.iloc[pos]`\n",
      "  alpha = model.params[0]  # intercept\n"
     ]
    },
    {
     "name": "stdout",
     "output_type": "stream",
     "text": [
      "Cointegrated pair: A and LH with p-value 0.03760232454241328\n"
     ]
    },
    {
     "name": "stderr",
     "output_type": "stream",
     "text": [
      "C:\\Users\\hando\\AppData\\Local\\Temp\\ipykernel_21124\\3589658198.py:10: FutureWarning: Series.__getitem__ treating keys as positions is deprecated. In a future version, integer keys will always be treated as labels (consistent with DataFrame behavior). To access a value by position, use `ser.iloc[pos]`\n",
      "  beta = model.params[1]  # slope coefficient\n",
      "C:\\Users\\hando\\AppData\\Local\\Temp\\ipykernel_21124\\3589658198.py:11: FutureWarning: Series.__getitem__ treating keys as positions is deprecated. In a future version, integer keys will always be treated as labels (consistent with DataFrame behavior). To access a value by position, use `ser.iloc[pos]`\n",
      "  alpha = model.params[0]  # intercept\n"
     ]
    },
    {
     "name": "stdout",
     "output_type": "stream",
     "text": [
      "Cointegrated pair: A and MGM with p-value 0.03506617407961589\n"
     ]
    },
    {
     "name": "stderr",
     "output_type": "stream",
     "text": [
      "C:\\Users\\hando\\AppData\\Local\\Temp\\ipykernel_21124\\3589658198.py:10: FutureWarning: Series.__getitem__ treating keys as positions is deprecated. In a future version, integer keys will always be treated as labels (consistent with DataFrame behavior). To access a value by position, use `ser.iloc[pos]`\n",
      "  beta = model.params[1]  # slope coefficient\n",
      "C:\\Users\\hando\\AppData\\Local\\Temp\\ipykernel_21124\\3589658198.py:11: FutureWarning: Series.__getitem__ treating keys as positions is deprecated. In a future version, integer keys will always be treated as labels (consistent with DataFrame behavior). To access a value by position, use `ser.iloc[pos]`\n",
      "  alpha = model.params[0]  # intercept\n"
     ]
    },
    {
     "name": "stdout",
     "output_type": "stream",
     "text": [
      "Cointegrated pair: A and NSC with p-value 0.048226436780069735\n"
     ]
    },
    {
     "name": "stderr",
     "output_type": "stream",
     "text": [
      "C:\\Users\\hando\\AppData\\Local\\Temp\\ipykernel_21124\\3589658198.py:10: FutureWarning: Series.__getitem__ treating keys as positions is deprecated. In a future version, integer keys will always be treated as labels (consistent with DataFrame behavior). To access a value by position, use `ser.iloc[pos]`\n",
      "  beta = model.params[1]  # slope coefficient\n",
      "C:\\Users\\hando\\AppData\\Local\\Temp\\ipykernel_21124\\3589658198.py:11: FutureWarning: Series.__getitem__ treating keys as positions is deprecated. In a future version, integer keys will always be treated as labels (consistent with DataFrame behavior). To access a value by position, use `ser.iloc[pos]`\n",
      "  alpha = model.params[0]  # intercept\n"
     ]
    },
    {
     "name": "stdout",
     "output_type": "stream",
     "text": [
      "Cointegrated pair: A and SCHW with p-value 0.01955990554699436\n"
     ]
    },
    {
     "name": "stderr",
     "output_type": "stream",
     "text": [
      "C:\\Users\\hando\\AppData\\Local\\Temp\\ipykernel_21124\\3589658198.py:10: FutureWarning: Series.__getitem__ treating keys as positions is deprecated. In a future version, integer keys will always be treated as labels (consistent with DataFrame behavior). To access a value by position, use `ser.iloc[pos]`\n",
      "  beta = model.params[1]  # slope coefficient\n",
      "C:\\Users\\hando\\AppData\\Local\\Temp\\ipykernel_21124\\3589658198.py:11: FutureWarning: Series.__getitem__ treating keys as positions is deprecated. In a future version, integer keys will always be treated as labels (consistent with DataFrame behavior). To access a value by position, use `ser.iloc[pos]`\n",
      "  alpha = model.params[0]  # intercept\n"
     ]
    },
    {
     "name": "stdout",
     "output_type": "stream",
     "text": [
      "Cointegrated pair: A and SYY with p-value 0.010960432099005534\n"
     ]
    },
    {
     "name": "stderr",
     "output_type": "stream",
     "text": [
      "C:\\Users\\hando\\AppData\\Local\\Temp\\ipykernel_21124\\3589658198.py:10: FutureWarning: Series.__getitem__ treating keys as positions is deprecated. In a future version, integer keys will always be treated as labels (consistent with DataFrame behavior). To access a value by position, use `ser.iloc[pos]`\n",
      "  beta = model.params[1]  # slope coefficient\n",
      "C:\\Users\\hando\\AppData\\Local\\Temp\\ipykernel_21124\\3589658198.py:11: FutureWarning: Series.__getitem__ treating keys as positions is deprecated. In a future version, integer keys will always be treated as labels (consistent with DataFrame behavior). To access a value by position, use `ser.iloc[pos]`\n",
      "  alpha = model.params[0]  # intercept\n"
     ]
    },
    {
     "name": "stdout",
     "output_type": "stream",
     "text": [
      "Cointegrated pair: A and TDY with p-value 0.037724598851431874\n"
     ]
    },
    {
     "name": "stderr",
     "output_type": "stream",
     "text": [
      "C:\\Users\\hando\\AppData\\Local\\Temp\\ipykernel_21124\\3589658198.py:10: FutureWarning: Series.__getitem__ treating keys as positions is deprecated. In a future version, integer keys will always be treated as labels (consistent with DataFrame behavior). To access a value by position, use `ser.iloc[pos]`\n",
      "  beta = model.params[1]  # slope coefficient\n",
      "C:\\Users\\hando\\AppData\\Local\\Temp\\ipykernel_21124\\3589658198.py:11: FutureWarning: Series.__getitem__ treating keys as positions is deprecated. In a future version, integer keys will always be treated as labels (consistent with DataFrame behavior). To access a value by position, use `ser.iloc[pos]`\n",
      "  alpha = model.params[0]  # intercept\n"
     ]
    },
    {
     "name": "stdout",
     "output_type": "stream",
     "text": [
      "Cointegrated pair: A and USB with p-value 0.0327474984030685\n"
     ]
    },
    {
     "name": "stderr",
     "output_type": "stream",
     "text": [
      "C:\\Users\\hando\\AppData\\Local\\Temp\\ipykernel_21124\\3589658198.py:10: FutureWarning: Series.__getitem__ treating keys as positions is deprecated. In a future version, integer keys will always be treated as labels (consistent with DataFrame behavior). To access a value by position, use `ser.iloc[pos]`\n",
      "  beta = model.params[1]  # slope coefficient\n",
      "C:\\Users\\hando\\AppData\\Local\\Temp\\ipykernel_21124\\3589658198.py:11: FutureWarning: Series.__getitem__ treating keys as positions is deprecated. In a future version, integer keys will always be treated as labels (consistent with DataFrame behavior). To access a value by position, use `ser.iloc[pos]`\n",
      "  alpha = model.params[0]  # intercept\n"
     ]
    },
    {
     "name": "stdout",
     "output_type": "stream",
     "text": [
      "Cointegrated pair: AAPL and AFL with p-value 0.03632802049352176\n"
     ]
    },
    {
     "name": "stderr",
     "output_type": "stream",
     "text": [
      "C:\\Users\\hando\\AppData\\Local\\Temp\\ipykernel_21124\\3589658198.py:10: FutureWarning: Series.__getitem__ treating keys as positions is deprecated. In a future version, integer keys will always be treated as labels (consistent with DataFrame behavior). To access a value by position, use `ser.iloc[pos]`\n",
      "  beta = model.params[1]  # slope coefficient\n",
      "C:\\Users\\hando\\AppData\\Local\\Temp\\ipykernel_21124\\3589658198.py:11: FutureWarning: Series.__getitem__ treating keys as positions is deprecated. In a future version, integer keys will always be treated as labels (consistent with DataFrame behavior). To access a value by position, use `ser.iloc[pos]`\n",
      "  alpha = model.params[0]  # intercept\n"
     ]
    },
    {
     "name": "stdout",
     "output_type": "stream",
     "text": [
      "Cointegrated pair: AAPL and BKR with p-value 0.011478270371205778\n"
     ]
    },
    {
     "name": "stderr",
     "output_type": "stream",
     "text": [
      "C:\\Users\\hando\\AppData\\Local\\Temp\\ipykernel_21124\\3589658198.py:10: FutureWarning: Series.__getitem__ treating keys as positions is deprecated. In a future version, integer keys will always be treated as labels (consistent with DataFrame behavior). To access a value by position, use `ser.iloc[pos]`\n",
      "  beta = model.params[1]  # slope coefficient\n",
      "C:\\Users\\hando\\AppData\\Local\\Temp\\ipykernel_21124\\3589658198.py:11: FutureWarning: Series.__getitem__ treating keys as positions is deprecated. In a future version, integer keys will always be treated as labels (consistent with DataFrame behavior). To access a value by position, use `ser.iloc[pos]`\n",
      "  alpha = model.params[0]  # intercept\n"
     ]
    },
    {
     "name": "stdout",
     "output_type": "stream",
     "text": [
      "Cointegrated pair: AAPL and BRK-B with p-value 0.03637158958636731\n"
     ]
    },
    {
     "name": "stderr",
     "output_type": "stream",
     "text": [
      "C:\\Users\\hando\\AppData\\Local\\Temp\\ipykernel_21124\\3589658198.py:10: FutureWarning: Series.__getitem__ treating keys as positions is deprecated. In a future version, integer keys will always be treated as labels (consistent with DataFrame behavior). To access a value by position, use `ser.iloc[pos]`\n",
      "  beta = model.params[1]  # slope coefficient\n",
      "C:\\Users\\hando\\AppData\\Local\\Temp\\ipykernel_21124\\3589658198.py:11: FutureWarning: Series.__getitem__ treating keys as positions is deprecated. In a future version, integer keys will always be treated as labels (consistent with DataFrame behavior). To access a value by position, use `ser.iloc[pos]`\n",
      "  alpha = model.params[0]  # intercept\n"
     ]
    },
    {
     "name": "stdout",
     "output_type": "stream",
     "text": [
      "Cointegrated pair: AAPL and EIX with p-value 0.026462722053413035\n"
     ]
    },
    {
     "name": "stderr",
     "output_type": "stream",
     "text": [
      "C:\\Users\\hando\\AppData\\Local\\Temp\\ipykernel_21124\\3589658198.py:10: FutureWarning: Series.__getitem__ treating keys as positions is deprecated. In a future version, integer keys will always be treated as labels (consistent with DataFrame behavior). To access a value by position, use `ser.iloc[pos]`\n",
      "  beta = model.params[1]  # slope coefficient\n",
      "C:\\Users\\hando\\AppData\\Local\\Temp\\ipykernel_21124\\3589658198.py:11: FutureWarning: Series.__getitem__ treating keys as positions is deprecated. In a future version, integer keys will always be treated as labels (consistent with DataFrame behavior). To access a value by position, use `ser.iloc[pos]`\n",
      "  alpha = model.params[0]  # intercept\n"
     ]
    },
    {
     "name": "stdout",
     "output_type": "stream",
     "text": [
      "Cointegrated pair: AAPL and EMR with p-value 0.04426496169381287\n"
     ]
    },
    {
     "name": "stderr",
     "output_type": "stream",
     "text": [
      "C:\\Users\\hando\\AppData\\Local\\Temp\\ipykernel_21124\\3589658198.py:10: FutureWarning: Series.__getitem__ treating keys as positions is deprecated. In a future version, integer keys will always be treated as labels (consistent with DataFrame behavior). To access a value by position, use `ser.iloc[pos]`\n",
      "  beta = model.params[1]  # slope coefficient\n",
      "C:\\Users\\hando\\AppData\\Local\\Temp\\ipykernel_21124\\3589658198.py:11: FutureWarning: Series.__getitem__ treating keys as positions is deprecated. In a future version, integer keys will always be treated as labels (consistent with DataFrame behavior). To access a value by position, use `ser.iloc[pos]`\n",
      "  alpha = model.params[0]  # intercept\n"
     ]
    },
    {
     "name": "stdout",
     "output_type": "stream",
     "text": [
      "Cointegrated pair: AAPL and HLT with p-value 0.023654212150395888\n"
     ]
    },
    {
     "name": "stderr",
     "output_type": "stream",
     "text": [
      "C:\\Users\\hando\\AppData\\Local\\Temp\\ipykernel_21124\\3589658198.py:10: FutureWarning: Series.__getitem__ treating keys as positions is deprecated. In a future version, integer keys will always be treated as labels (consistent with DataFrame behavior). To access a value by position, use `ser.iloc[pos]`\n",
      "  beta = model.params[1]  # slope coefficient\n",
      "C:\\Users\\hando\\AppData\\Local\\Temp\\ipykernel_21124\\3589658198.py:11: FutureWarning: Series.__getitem__ treating keys as positions is deprecated. In a future version, integer keys will always be treated as labels (consistent with DataFrame behavior). To access a value by position, use `ser.iloc[pos]`\n",
      "  alpha = model.params[0]  # intercept\n"
     ]
    },
    {
     "name": "stdout",
     "output_type": "stream",
     "text": [
      "Cointegrated pair: AAPL and HPE with p-value 0.003156066990806126\n"
     ]
    },
    {
     "name": "stderr",
     "output_type": "stream",
     "text": [
      "C:\\Users\\hando\\AppData\\Local\\Temp\\ipykernel_21124\\3589658198.py:10: FutureWarning: Series.__getitem__ treating keys as positions is deprecated. In a future version, integer keys will always be treated as labels (consistent with DataFrame behavior). To access a value by position, use `ser.iloc[pos]`\n",
      "  beta = model.params[1]  # slope coefficient\n",
      "C:\\Users\\hando\\AppData\\Local\\Temp\\ipykernel_21124\\3589658198.py:11: FutureWarning: Series.__getitem__ treating keys as positions is deprecated. In a future version, integer keys will always be treated as labels (consistent with DataFrame behavior). To access a value by position, use `ser.iloc[pos]`\n",
      "  alpha = model.params[0]  # intercept\n"
     ]
    },
    {
     "name": "stdout",
     "output_type": "stream",
     "text": [
      "Cointegrated pair: AAPL and KMI with p-value 0.036595951240075995\n"
     ]
    },
    {
     "name": "stderr",
     "output_type": "stream",
     "text": [
      "C:\\Users\\hando\\AppData\\Local\\Temp\\ipykernel_21124\\3589658198.py:10: FutureWarning: Series.__getitem__ treating keys as positions is deprecated. In a future version, integer keys will always be treated as labels (consistent with DataFrame behavior). To access a value by position, use `ser.iloc[pos]`\n",
      "  beta = model.params[1]  # slope coefficient\n",
      "C:\\Users\\hando\\AppData\\Local\\Temp\\ipykernel_21124\\3589658198.py:11: FutureWarning: Series.__getitem__ treating keys as positions is deprecated. In a future version, integer keys will always be treated as labels (consistent with DataFrame behavior). To access a value by position, use `ser.iloc[pos]`\n",
      "  alpha = model.params[0]  # intercept\n"
     ]
    },
    {
     "name": "stdout",
     "output_type": "stream",
     "text": [
      "Cointegrated pair: AAPL and L with p-value 0.02111652662347676\n"
     ]
    },
    {
     "name": "stderr",
     "output_type": "stream",
     "text": [
      "C:\\Users\\hando\\AppData\\Local\\Temp\\ipykernel_21124\\3589658198.py:10: FutureWarning: Series.__getitem__ treating keys as positions is deprecated. In a future version, integer keys will always be treated as labels (consistent with DataFrame behavior). To access a value by position, use `ser.iloc[pos]`\n",
      "  beta = model.params[1]  # slope coefficient\n",
      "C:\\Users\\hando\\AppData\\Local\\Temp\\ipykernel_21124\\3589658198.py:11: FutureWarning: Series.__getitem__ treating keys as positions is deprecated. In a future version, integer keys will always be treated as labels (consistent with DataFrame behavior). To access a value by position, use `ser.iloc[pos]`\n",
      "  alpha = model.params[0]  # intercept\n"
     ]
    },
    {
     "name": "stdout",
     "output_type": "stream",
     "text": [
      "Cointegrated pair: AAPL and MAR with p-value 0.021904212172065944\n"
     ]
    },
    {
     "name": "stderr",
     "output_type": "stream",
     "text": [
      "C:\\Users\\hando\\AppData\\Local\\Temp\\ipykernel_21124\\3589658198.py:10: FutureWarning: Series.__getitem__ treating keys as positions is deprecated. In a future version, integer keys will always be treated as labels (consistent with DataFrame behavior). To access a value by position, use `ser.iloc[pos]`\n",
      "  beta = model.params[1]  # slope coefficient\n",
      "C:\\Users\\hando\\AppData\\Local\\Temp\\ipykernel_21124\\3589658198.py:11: FutureWarning: Series.__getitem__ treating keys as positions is deprecated. In a future version, integer keys will always be treated as labels (consistent with DataFrame behavior). To access a value by position, use `ser.iloc[pos]`\n",
      "  alpha = model.params[0]  # intercept\n"
     ]
    },
    {
     "name": "stdout",
     "output_type": "stream",
     "text": [
      "Cointegrated pair: AAPL and MO with p-value 0.007920248289076334\n"
     ]
    },
    {
     "name": "stderr",
     "output_type": "stream",
     "text": [
      "C:\\Users\\hando\\AppData\\Local\\Temp\\ipykernel_21124\\3589658198.py:10: FutureWarning: Series.__getitem__ treating keys as positions is deprecated. In a future version, integer keys will always be treated as labels (consistent with DataFrame behavior). To access a value by position, use `ser.iloc[pos]`\n",
      "  beta = model.params[1]  # slope coefficient\n",
      "C:\\Users\\hando\\AppData\\Local\\Temp\\ipykernel_21124\\3589658198.py:11: FutureWarning: Series.__getitem__ treating keys as positions is deprecated. In a future version, integer keys will always be treated as labels (consistent with DataFrame behavior). To access a value by position, use `ser.iloc[pos]`\n",
      "  alpha = model.params[0]  # intercept\n"
     ]
    },
    {
     "name": "stdout",
     "output_type": "stream",
     "text": [
      "Cointegrated pair: AAPL and OKE with p-value 0.004747360887657215\n"
     ]
    },
    {
     "name": "stderr",
     "output_type": "stream",
     "text": [
      "C:\\Users\\hando\\AppData\\Local\\Temp\\ipykernel_21124\\3589658198.py:10: FutureWarning: Series.__getitem__ treating keys as positions is deprecated. In a future version, integer keys will always be treated as labels (consistent with DataFrame behavior). To access a value by position, use `ser.iloc[pos]`\n",
      "  beta = model.params[1]  # slope coefficient\n",
      "C:\\Users\\hando\\AppData\\Local\\Temp\\ipykernel_21124\\3589658198.py:11: FutureWarning: Series.__getitem__ treating keys as positions is deprecated. In a future version, integer keys will always be treated as labels (consistent with DataFrame behavior). To access a value by position, use `ser.iloc[pos]`\n",
      "  alpha = model.params[0]  # intercept\n"
     ]
    },
    {
     "name": "stdout",
     "output_type": "stream",
     "text": [
      "Cointegrated pair: AAPL and PANW with p-value 0.03803212660007242\n"
     ]
    },
    {
     "name": "stderr",
     "output_type": "stream",
     "text": [
      "C:\\Users\\hando\\AppData\\Local\\Temp\\ipykernel_21124\\3589658198.py:10: FutureWarning: Series.__getitem__ treating keys as positions is deprecated. In a future version, integer keys will always be treated as labels (consistent with DataFrame behavior). To access a value by position, use `ser.iloc[pos]`\n",
      "  beta = model.params[1]  # slope coefficient\n",
      "C:\\Users\\hando\\AppData\\Local\\Temp\\ipykernel_21124\\3589658198.py:11: FutureWarning: Series.__getitem__ treating keys as positions is deprecated. In a future version, integer keys will always be treated as labels (consistent with DataFrame behavior). To access a value by position, use `ser.iloc[pos]`\n",
      "  alpha = model.params[0]  # intercept\n"
     ]
    },
    {
     "name": "stdout",
     "output_type": "stream",
     "text": [
      "Cointegrated pair: AAPL and PEG with p-value 0.023469537434199977\n"
     ]
    },
    {
     "name": "stderr",
     "output_type": "stream",
     "text": [
      "C:\\Users\\hando\\AppData\\Local\\Temp\\ipykernel_21124\\3589658198.py:10: FutureWarning: Series.__getitem__ treating keys as positions is deprecated. In a future version, integer keys will always be treated as labels (consistent with DataFrame behavior). To access a value by position, use `ser.iloc[pos]`\n",
      "  beta = model.params[1]  # slope coefficient\n",
      "C:\\Users\\hando\\AppData\\Local\\Temp\\ipykernel_21124\\3589658198.py:11: FutureWarning: Series.__getitem__ treating keys as positions is deprecated. In a future version, integer keys will always be treated as labels (consistent with DataFrame behavior). To access a value by position, use `ser.iloc[pos]`\n",
      "  alpha = model.params[0]  # intercept\n"
     ]
    },
    {
     "name": "stdout",
     "output_type": "stream",
     "text": [
      "Cointegrated pair: AAPL and PG with p-value 0.002065125909967126\n"
     ]
    },
    {
     "name": "stderr",
     "output_type": "stream",
     "text": [
      "C:\\Users\\hando\\AppData\\Local\\Temp\\ipykernel_21124\\3589658198.py:10: FutureWarning: Series.__getitem__ treating keys as positions is deprecated. In a future version, integer keys will always be treated as labels (consistent with DataFrame behavior). To access a value by position, use `ser.iloc[pos]`\n",
      "  beta = model.params[1]  # slope coefficient\n",
      "C:\\Users\\hando\\AppData\\Local\\Temp\\ipykernel_21124\\3589658198.py:11: FutureWarning: Series.__getitem__ treating keys as positions is deprecated. In a future version, integer keys will always be treated as labels (consistent with DataFrame behavior). To access a value by position, use `ser.iloc[pos]`\n",
      "  alpha = model.params[0]  # intercept\n"
     ]
    },
    {
     "name": "stdout",
     "output_type": "stream",
     "text": [
      "Cointegrated pair: AAPL and PM with p-value 0.02704988523322865\n"
     ]
    },
    {
     "name": "stderr",
     "output_type": "stream",
     "text": [
      "C:\\Users\\hando\\AppData\\Local\\Temp\\ipykernel_21124\\3589658198.py:10: FutureWarning: Series.__getitem__ treating keys as positions is deprecated. In a future version, integer keys will always be treated as labels (consistent with DataFrame behavior). To access a value by position, use `ser.iloc[pos]`\n",
      "  beta = model.params[1]  # slope coefficient\n",
      "C:\\Users\\hando\\AppData\\Local\\Temp\\ipykernel_21124\\3589658198.py:11: FutureWarning: Series.__getitem__ treating keys as positions is deprecated. In a future version, integer keys will always be treated as labels (consistent with DataFrame behavior). To access a value by position, use `ser.iloc[pos]`\n",
      "  alpha = model.params[0]  # intercept\n"
     ]
    },
    {
     "name": "stdout",
     "output_type": "stream",
     "text": [
      "Cointegrated pair: AAPL and PPL with p-value 0.026700259818609122\n"
     ]
    },
    {
     "name": "stderr",
     "output_type": "stream",
     "text": [
      "C:\\Users\\hando\\AppData\\Local\\Temp\\ipykernel_21124\\3589658198.py:10: FutureWarning: Series.__getitem__ treating keys as positions is deprecated. In a future version, integer keys will always be treated as labels (consistent with DataFrame behavior). To access a value by position, use `ser.iloc[pos]`\n",
      "  beta = model.params[1]  # slope coefficient\n",
      "C:\\Users\\hando\\AppData\\Local\\Temp\\ipykernel_21124\\3589658198.py:11: FutureWarning: Series.__getitem__ treating keys as positions is deprecated. In a future version, integer keys will always be treated as labels (consistent with DataFrame behavior). To access a value by position, use `ser.iloc[pos]`\n",
      "  alpha = model.params[0]  # intercept\n"
     ]
    },
    {
     "name": "stdout",
     "output_type": "stream",
     "text": [
      "Cointegrated pair: AAPL and RCL with p-value 0.018226103398567266\n"
     ]
    },
    {
     "name": "stderr",
     "output_type": "stream",
     "text": [
      "C:\\Users\\hando\\AppData\\Local\\Temp\\ipykernel_21124\\3589658198.py:10: FutureWarning: Series.__getitem__ treating keys as positions is deprecated. In a future version, integer keys will always be treated as labels (consistent with DataFrame behavior). To access a value by position, use `ser.iloc[pos]`\n",
      "  beta = model.params[1]  # slope coefficient\n",
      "C:\\Users\\hando\\AppData\\Local\\Temp\\ipykernel_21124\\3589658198.py:11: FutureWarning: Series.__getitem__ treating keys as positions is deprecated. In a future version, integer keys will always be treated as labels (consistent with DataFrame behavior). To access a value by position, use `ser.iloc[pos]`\n",
      "  alpha = model.params[0]  # intercept\n"
     ]
    },
    {
     "name": "stdout",
     "output_type": "stream",
     "text": [
      "Cointegrated pair: AAPL and SPG with p-value 0.02409386405140318\n"
     ]
    }
   ],
   "source": [
    "print(cointegrated_pairs(returns_close, p_val=0.05))"
   ]
  }
 ],
 "metadata": {
  "kernelspec": {
   "display_name": "Python 3",
   "language": "python",
   "name": "python3"
  },
  "language_info": {
   "codemirror_mode": {
    "name": "ipython",
    "version": 3
   },
   "file_extension": ".py",
   "mimetype": "text/x-python",
   "name": "python",
   "nbconvert_exporter": "python",
   "pygments_lexer": "ipython3",
   "version": "3.11.4"
  }
 },
 "nbformat": 4,
 "nbformat_minor": 5
}
