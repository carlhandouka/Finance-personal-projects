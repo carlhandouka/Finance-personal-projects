{
 "cells": [
  {
   "cell_type": "code",
   "execution_count": null,
   "id": "f5907687",
   "metadata": {},
   "outputs": [],
   "source": [
    "import numpy as np\n",
    "import pandas as pd\n",
    "import statsmodels.api as sm\n",
    "from statsmodels.tsa.stattools import adfuller, coint\n",
    "import yfinance as yf\n",
    "import matplotlib.pyplot as plt\n",
    "from scipy.optimize import minimize\n"
   ]
  },
  {
   "cell_type": "code",
   "execution_count": null,
   "id": "fd851074",
   "metadata": {},
   "outputs": [],
   "source": [
    "prices_close = pd.read_csv('sp500_prices_close.csv', index_col=0, parse_dates=True)\n",
    "prices_close = prices_close.dropna()\n",
    "print(prices_close.head())\n"
   ]
  },
  {
   "cell_type": "markdown",
   "id": "a2cee5df",
   "metadata": {},
   "source": [
    "# Engle-Granger test:\n",
    "\n",
    "Assuming 2 time-series $X_{t}$ and $Y_{t}$ are I(1), they are cointegrated if there exist scalar $\\beta$ such that :\n",
    " \n",
    "$u_{t}= Y_{t}​− \\beta X_{t}$ satisfies $u_{t}$~I(0)  "
   ]
  },
  {
   "cell_type": "code",
   "execution_count": null,
   "id": "cef4e93b",
   "metadata": {},
   "outputs": [],
   "source": [
    "# Differentiation of a time-series\n",
    "def diff(series, d=1):\n",
    "    \"\"\"Return Δ^d series (d-th difference).\"\"\"\n",
    "    out = series.copy()\n",
    "    for _ in range(d):\n",
    "        out = out.diff()\n",
    "    return out.dropna()"
   ]
  },
  {
   "cell_type": "code",
   "execution_count": null,
   "id": "71c69350",
   "metadata": {},
   "outputs": [],
   "source": [
    "# ADF test\n",
    "def adf_test(series, max_lags=None, ic='AIC', trend='c'):\n",
    "    \"\"\"\n",
    "    trend: 'n' (no const), 'c' (const), 'ct' (const+trend), 'ctt' (const+trend+quad)\n",
    "    ic:    'AIC' or 'BIC' for autolag selection\n",
    "    \"\"\"\n",
    "    series = series.dropna()\n",
    "    res = adfuller(series, maxlag=max_lags, regression=trend, autolag=ic)\n",
    "    out = {\n",
    "        'ADF stat': res[0],\n",
    "        'p-value':  res[1],\n",
    "        '#lags':    res[2],\n",
    "        '#obs':     res[3],\n",
    "        'crit':     res[4],   # dict with 1%, 5%, 10%\n",
    "        'icbest':   res[5] if len(res) > 5 else None\n",
    "    }\n",
    "    return out"
   ]
  },
  {
   "cell_type": "code",
   "execution_count": null,
   "id": "ab5b49f0",
   "metadata": {},
   "outputs": [],
   "source": [
    "#checks the order of integration of a time-series\n",
    "def is_Id(series, d=1, adf_trend='c', ic='AIC'):\n",
    "    \"\"\"Quick check: not stationary at level but stationary after one diff.\"\"\"\n",
    "    r0 = adf_test(series, trend=adf_trend, ic=ic)['p-value']\n",
    "    r1 = adf_test(diff(series, d=d), trend='n', ic=ic)['p-value']\n",
    "    return (r0 > 0.05) and (r1 < 0.05)"
   ]
  },
  {
   "cell_type": "code",
   "execution_count": null,
   "id": "f98ae828",
   "metadata": {},
   "outputs": [],
   "source": [
    "print(adf_test(diff(prices_close['AAPL']), trend='c'))"
   ]
  },
  {
   "cell_type": "code",
   "execution_count": null,
   "id": "b3ff5455",
   "metadata": {},
   "outputs": [],
   "source": [
    "print(is_Id(prices_close['AAPL'],d=0))\n",
    "print(is_Id(prices_close['AAPL'],d=1))"
   ]
  },
  {
   "cell_type": "code",
   "execution_count": null,
   "id": "63e97d56",
   "metadata": {},
   "outputs": [],
   "source": [
    "def engle_granger(X,Y, p_val=0.05):\n",
    "    X, Y = X.align(Y, join=\"inner\")\n",
    "    if not (is_Id(X,d=1) and is_Id(Y,d=1)):\n",
    "        return None\n",
    "    else:\n",
    "        score, p_value, _ = coint(X, Y)\n",
    "\n",
    "        if p_value < p_val:\n",
    "            X_const = sm.add_constant(X)\n",
    "            model = sm.OLS(Y, X_const).fit()\n",
    "            beta = model.params[1]  # slope coefficient\n",
    "            alpha = model.params[0]  # intercept\n",
    "            \n",
    "            return beta, alpha, p_value, score\n",
    "        else:\n",
    "            return None"
   ]
  },
  {
   "cell_type": "code",
   "execution_count": null,
   "id": "e821f7e2",
   "metadata": {},
   "outputs": [],
   "source": [
    "print(engle_granger(prices_close['AAPL'], prices_close['MSFT'], p_val=0.05))"
   ]
  },
  {
   "cell_type": "markdown",
   "id": "fc7571a6",
   "metadata": {},
   "source": [
    "# Finding cointegrated pairs in the SP500"
   ]
  },
  {
   "cell_type": "code",
   "execution_count": null,
   "id": "a2369372",
   "metadata": {},
   "outputs": [],
   "source": [
    "def cointegrated_pairs(df, p_val=0.05):\n",
    "    pairs=[]\n",
    "    for i in range(df.shape[1]):\n",
    "        for j in range(i+1,df.shape[1]):\n",
    "            if i!=j:\n",
    "                    X = df.iloc[:,i]\n",
    "                    Y = df.iloc[:,j]\n",
    "                    if not engle_granger(X,Y, p_val=p_val) is None: \n",
    "                        beta, alpha, p_value, score = engle_granger(X,Y, p_val=p_val)\n",
    "                        if p_value < p_val:\n",
    "                            print(f\"Cointegrated pair: {df.columns[i]} and {df.columns[j]} with p-value {p_value}\")\n",
    "                            pairs.append([df.columns[i], df.columns[j], beta, alpha, p_value, score])\n",
    "    return pairs"
   ]
  },
  {
   "cell_type": "code",
   "execution_count": null,
   "id": "69e7ffc2",
   "metadata": {},
   "outputs": [],
   "source": [
    "## Took too long to run\n",
    "# pairs = cointegrated_pairs(returns_close, p_val=0.01)\n",
    "pairs=  cointegrated_pairs(prices_close, p_val=0.05)\n",
    "print(pairs)"
   ]
  },
  {
   "cell_type": "code",
   "execution_count": null,
   "id": "c1803e9b",
   "metadata": {},
   "outputs": [],
   "source": [
    "pair_test=[['AAPL', 'MSFT', 1.057, -3.123, 0.0001, -4.321],['GOOGL', 'AMZN', 0.876, 2.456, 0.00005, -4.567],['FB', 'TWTR', 1.234, -1.234, 0.0002, -4.123],['NFLX', 'DIS', 0.987, 0.567, 0.00015, -4.234],['AAPL', 'GOOGL', 1.345, -2.345, 0.0003, -4.456]]\n",
    "\n"
   ]
  },
  {
   "cell_type": "markdown",
   "id": "ff063760",
   "metadata": {},
   "source": [
    "# Finding the tickers that represent the whole index"
   ]
  },
  {
   "cell_type": "code",
   "execution_count": null,
   "id": "2d8a7800",
   "metadata": {},
   "outputs": [],
   "source": [
    "def minimum_pairs(pairs):\n",
    "    Min=[]\n",
    "    Min.append(pairs[0][0])\n",
    "    Min.append(pairs[0][1])\n",
    "    pairs.pop(0)\n",
    "    while len(pairs)>0:\n",
    "        if pairs[0][0] in Min and pairs[0][1] in Min:\n",
    "            pairs.pop(0)\n",
    "        else:\n",
    "            if pairs[0][0] not in Min:\n",
    "                Min.append(pairs[0][0])\n",
    "            if pairs[0][1] not in Min:\n",
    "                Min.append(pairs[0][1])\n",
    "            pairs.pop(0)\n",
    "    return Min, len(Min)"
   ]
  },
  {
   "cell_type": "code",
   "execution_count": null,
   "id": "0f2092c5",
   "metadata": {},
   "outputs": [],
   "source": [
    "print(minimum_pairs(pair_test))"
   ]
  },
  {
   "cell_type": "markdown",
   "id": "09226cdb",
   "metadata": {},
   "source": [
    "# Building investing strategies (Portfolio Building)"
   ]
  },
  {
   "cell_type": "code",
   "execution_count": null,
   "id": "ba103fd5",
   "metadata": {},
   "outputs": [],
   "source": [
    "def buy_and_hold(df,ticker,capital=100):\n",
    "    price=[]\n",
    "    for i in range(len(df)):\n",
    "        price.append(df[ticker].iloc[i]*capital)\n",
    "    return price"
   ]
  },
  {
   "cell_type": "code",
   "execution_count": null,
   "id": "0342c51b",
   "metadata": {},
   "outputs": [],
   "source": [
    "plt.plot(buy_and_hold(prices_close,'AAPL',capital=1000))\n",
    "plt.plot(buy_and_hold(prices_close,'MSFT',capital=1000))\n",
    "plt.plot(buy_and_hold(prices_close,'NVDA',capital=1000))\n",
    "plt.title('Buy and Hold Strategy - start date is 2010-01-04 and end date is 2023-10-31')\n",
    "plt.legend(['AAPL','MSFT','NVDA'])\n",
    "plt.show()"
   ]
  },
  {
   "cell_type": "code",
   "execution_count": null,
   "id": "c8f9aed1",
   "metadata": {},
   "outputs": [],
   "source": [
    "def portfolio(df,tickers,capitals):\n",
    "    port=[]\n",
    "    for i in range(len(df)):\n",
    "        total=0\n",
    "        for j in range(len(tickers)):\n",
    "            total+=df[tickers[j]].iloc[i]*capitals[j]\n",
    "        port.append(total)\n",
    "    return port"
   ]
  },
  {
   "cell_type": "code",
   "execution_count": null,
   "id": "748215a5",
   "metadata": {},
   "outputs": [],
   "source": [
    "bigtech=portfolio(prices_close,['AAPL','MSFT','NVDA'],[0.4,0.4,0.2])\n",
    "plt.plot(bigtech)\n",
    "plt.title('Big Tech Portfolio - start date is 2010-01-04 and end date is 2023-10-31')\n",
    "plt.legend(['Big Tech Portfolio'])\n",
    "plt.show()"
   ]
  },
  {
   "cell_type": "code",
   "execution_count": null,
   "id": "960a082b",
   "metadata": {},
   "outputs": [],
   "source": [
    "def best_portfolio(df,tickers): ## finding the best portfolio with the highest return using function optimization\n",
    "    \n",
    "    def herfindahl_hirschman_index(weights):\n",
    "        \"\"\"Calculate the Herfindahl-Hirschman Index (HHI) for a given set of weights.\"\"\"\n",
    "        return sum(w**2 for w in weights)\n",
    "    ## Adding diversification constraint (Herfindahl-Hirschman Index)\n",
    "    def objective_function(weights):\n",
    "        port = portfolio(df, tickers, weights)\n",
    "        return -((port[-1]-port[0])/port[0]) + 0.5 * herfindahl_hirschman_index(weights)  # Minimize negative return\n",
    "\n",
    "    constraints = ({'type': 'eq', 'fun': lambda x: sum(x) - 1})  # Weights must sum to 1\n",
    "    bounds = tuple((0, 1) for _ in tickers)  # Weights must be between 0 and 1\n",
    "    initial_weights = [1/len(tickers)] * len(tickers)\n",
    "\n",
    "    result = minimize(objective_function, initial_weights, bounds=bounds, constraints=constraints)\n",
    "\n",
    "    return result.x, -result.fun  # Return optimal weights and maximum return\n"
   ]
  },
  {
   "cell_type": "code",
   "execution_count": null,
   "id": "4560e72e",
   "metadata": {},
   "outputs": [],
   "source": [
    "best_weights, _ = best_portfolio(prices_close,['MSFT','GOOGL','AMZN'])"
   ]
  },
  {
   "cell_type": "code",
   "execution_count": null,
   "id": "3f240ce9",
   "metadata": {},
   "outputs": [],
   "source": [
    "plt.plot(bigtech)\n",
    "plt.plot(portfolio(prices_close,['MSFT','GOOGL','AMZN'],best_weights))\n",
    "plt.legend(['Big Tech Portfolio', 'Optimal Portfolio'])\n",
    "plt.show()"
   ]
  },
  {
   "cell_type": "code",
   "execution_count": null,
   "id": "4d128664",
   "metadata": {},
   "outputs": [],
   "source": [
    "def cointegrated_strat(df,pairs, initial_capital=10000):\n",
    "    capital=initial_capital\n",
    "    for pair in pairs:\n",
    "        ticker1=pair[0]\n",
    "        ticker2=pair[1]\n",
    "        beta=pair[2]\n",
    "        alpha=pair[3]\n",
    "        price1=buy_and_hold(df,ticker1,capital=initial_capital/2)\n",
    "        price2=buy_and_hold(df,ticker2,capital=initial_capital/2)\n",
    "\n",
    "        # Calculate the spread\n",
    "        spread = np.array(price2) - beta * np.array(price1) - alpha\n",
    "        \n",
    "        # Calculate the mean and standard deviation of the spread\n",
    "        spread_mean = np.mean(spread)\n",
    "        spread_std = np.std(spread)\n",
    "        \n",
    "        # Set entry and exit thresholds\n",
    "        entry_threshold = spread_mean + spread_std\n",
    "        exit_threshold = spread_mean\n",
    "        \n",
    "        position1 = 0  # Position in ticker1\n",
    "        position2 = 0  # Position in ticker2\n",
    "        \n",
    "        for t in range(len(spread)):\n",
    "            if spread[t] > entry_threshold and position1 == 0 and position2 == 0:\n",
    "                # Short ticker2 and long ticker1\n",
    "                position1 = capital / price1[t]  # Buy as many shares of ticker1 as possible\n",
    "                position2 = -capital / price2[t]  # Short as many shares of ticker2 as possible\n",
    "                capital = 0  # All capital is now invested\n",
    "            \n",
    "            elif spread[t] < exit_threshold and position1 != 0 and position2 != 0:\n",
    "                # Close positions\n",
    "                capital += position1 * price1[t] + position2 * price2[t]\n",
    "                position1 = 0\n",
    "                position2 = 0\n",
    "        \n",
    "        # At the end of the period, close any open positions\n",
    "        if position1 != 0 and position2 != 0:\n",
    "            capital += position1 * price1[-1] + position2 * price2[-1]\n",
    "    \n",
    "    return capital"
   ]
  }
 ],
 "metadata": {
  "kernelspec": {
   "display_name": "Python 3",
   "language": "python",
   "name": "python3"
  },
  "language_info": {
   "codemirror_mode": {
    "name": "ipython",
    "version": 3
   },
   "file_extension": ".py",
   "mimetype": "text/x-python",
   "name": "python",
   "nbconvert_exporter": "python",
   "pygments_lexer": "ipython3",
   "version": "3.11.4"
  }
 },
 "nbformat": 4,
 "nbformat_minor": 5
}
